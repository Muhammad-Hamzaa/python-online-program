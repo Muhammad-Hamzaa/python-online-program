{
 "cells": [
  {
   "cell_type": "code",
   "execution_count": 8,
   "id": "dc206823",
   "metadata": {},
   "outputs": [
    {
     "name": "stdout",
     "output_type": "stream",
     "text": [
      "Twinkke, twinklem little star, \n",
      "\n",
      "\t How I wonder what you are, \n",
      "\n",
      "\t\t Up above the world so high, \n",
      "\n",
      "\t\t Like a diamond in the sky. \n",
      "\n",
      "Twinkke, twinklem little star, \n",
      "\n",
      "\t How I wonder what you are, \n",
      "\n"
     ]
    }
   ],
   "source": [
    "print(\"Twinkke, twinklem little star, \\n\")\n",
    "print(\"\\t How I wonder what you are, \\n\")\n",
    "print(\"\\t\\t Up above the world so high, \\n\")\n",
    "print(\"\\t\\t Like a diamond in the sky. \\n\")\n",
    "print(\"Twinkke, twinklem little star, \\n\")\n",
    "print(\"\\t How I wonder what you are, \\n\")\n"
   ]
  },
  {
   "cell_type": "code",
   "execution_count": 9,
   "id": "f70124ad",
   "metadata": {},
   "outputs": [
    {
     "name": "stdout",
     "output_type": "stream",
     "text": [
      "3.9.7 (default, Sep 16 2021, 16:59:28) [MSC v.1916 64 bit (AMD64)]\n"
     ]
    }
   ],
   "source": [
    "import sys\n",
    "print(sys.version)"
   ]
  },
  {
   "cell_type": "code",
   "execution_count": 13,
   "id": "d9ddea34",
   "metadata": {},
   "outputs": [
    {
     "name": "stdout",
     "output_type": "stream",
     "text": [
      "now = 2022-01-01 16:52:49.162835\n",
      "date and time = 01/01/2022 16:52:49\n"
     ]
    }
   ],
   "source": [
    "from datetime import datetime\n",
    "\n",
    "now = datetime.now()\n",
    "print(\"now =\", now)\n",
    "\n",
    "# dd/mm/YY H:M:S\n",
    "dt_string = now.strftime(\"%d/%m/%Y %H:%M:%S\")\n",
    "print(\"date and time =\", dt_string)"
   ]
  },
  {
   "cell_type": "code",
   "execution_count": 14,
   "id": "671f369a",
   "metadata": {},
   "outputs": [
    {
     "name": "stdout",
     "output_type": "stream",
     "text": [
      "Enter radius of circle : 2\n",
      "Area of the circle is: 12.566370614359172\n"
     ]
    }
   ],
   "source": [
    "from math import pi\n",
    "\n",
    "r = float(input (\"Enter radius of circle : \"))\n",
    "\n",
    "print (\"Area of the circle is: \" + str(pi * r**2))"
   ]
  },
  {
   "cell_type": "code",
   "execution_count": 16,
   "id": "3c021547",
   "metadata": {},
   "outputs": [
    {
     "name": "stdout",
     "output_type": "stream",
     "text": [
      "Input your First Name : Muhammad\n",
      "Input your Last Name : Hamza\n",
      "Hamza Muhammad\n"
     ]
    }
   ],
   "source": [
    "fname = input(\"Input your First Name : \")\n",
    "lname = input(\"Input your Last Name : \")\n",
    "print (lname + \" \" + fname)"
   ]
  },
  {
   "cell_type": "code",
   "execution_count": 21,
   "id": "5c3cfa58",
   "metadata": {},
   "outputs": [
    {
     "name": "stdout",
     "output_type": "stream",
     "text": [
      "Enter First Number : 5\n",
      "Enter Second number : 5\n",
      "Addition result of x and y is :  10\n"
     ]
    }
   ],
   "source": [
    "x = int(input(\"Enter First Number : \"))\n",
    "y = int(input(\"Enter Second number : \"))\n",
    " \n",
    "sum = x + y\n",
    " \n",
    "print(\"Addition result of x and y is : \", sum)\n"
   ]
  },
  {
   "cell_type": "code",
   "execution_count": null,
   "id": "bc3e7bd1",
   "metadata": {},
   "outputs": [],
   "source": []
  }
 ],
 "metadata": {
  "kernelspec": {
   "display_name": "Python 3 (ipykernel)",
   "language": "python",
   "name": "python3"
  },
  "language_info": {
   "codemirror_mode": {
    "name": "ipython",
    "version": 3
   },
   "file_extension": ".py",
   "mimetype": "text/x-python",
   "name": "python",
   "nbconvert_exporter": "python",
   "pygments_lexer": "ipython3",
   "version": "3.9.7"
  }
 },
 "nbformat": 4,
 "nbformat_minor": 5
}
